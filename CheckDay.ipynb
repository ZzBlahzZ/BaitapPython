{
 "cells": [
  {
   "cell_type": "code",
   "execution_count": null,
   "id": "ac16ab76",
   "metadata": {},
   "outputs": [],
   "source": [
    "n=int(input('nhap mot so n:'))\n",
    "if(n==1):\n",
    "    print('Monday')\n",
    "elif(n==2):\n",
    "    print('Tuesday')\n",
    "elif(n==3):\n",
    "    print('Wednesday')\n",
    "elif\n",
    "    "
   ]
  }
 ],
 "metadata": {
  "kernelspec": {
   "display_name": "Python 3",
   "language": "python",
   "name": "python3"
  },
  "language_info": {
   "codemirror_mode": {
    "name": "ipython",
    "version": 3
   },
   "file_extension": ".py",
   "mimetype": "text/x-python",
   "name": "python",
   "nbconvert_exporter": "python",
   "pygments_lexer": "ipython3",
   "version": "3.8.8"
  }
 },
 "nbformat": 4,
 "nbformat_minor": 5
}
