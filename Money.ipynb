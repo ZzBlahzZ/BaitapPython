{
 "cells": [
  {
   "cell_type": "code",
   "execution_count": 2,
   "id": "a705cae5",
   "metadata": {},
   "outputs": [
    {
     "name": "stdout",
     "output_type": "stream",
     "text": [
      "Nhap so tien USD: 100\n",
      "Nhap ti gia USD/VND: 5\n",
      "So tien VND sau khi đổi là:500 \n"
     ]
    }
   ],
   "source": [
    "n=input('Nhap so tien USD: ')\n",
    "m=input('Nhap ti gia USD/VND: ')\n",
    "x=int(n)*int(m)\n",
    "print('So tien VND sau khi đổi là:{} '.format(x))"
   ]
  },
  {
   "cell_type": "code",
   "execution_count": null,
   "id": "8b32973c",
   "metadata": {},
   "outputs": [],
   "source": []
  }
 ],
 "metadata": {
  "kernelspec": {
   "display_name": "Python 3",
   "language": "python",
   "name": "python3"
  },
  "language_info": {
   "codemirror_mode": {
    "name": "ipython",
    "version": 3
   },
   "file_extension": ".py",
   "mimetype": "text/x-python",
   "name": "python",
   "nbconvert_exporter": "python",
   "pygments_lexer": "ipython3",
   "version": "3.8.8"
  }
 },
 "nbformat": 4,
 "nbformat_minor": 5
}
