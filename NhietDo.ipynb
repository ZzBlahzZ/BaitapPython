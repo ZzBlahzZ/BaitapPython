{
 "cells": [
  {
   "cell_type": "code",
   "execution_count": 1,
   "id": "560b9ae8",
   "metadata": {},
   "outputs": [
    {
     "name": "stdout",
     "output_type": "stream",
     "text": [
      " Enter temperature in Centigrade: 58\n",
      " Temperature in Fahrenheit is:  136.4\n"
     ]
    }
   ],
   "source": [
    "c = input(\" Enter temperature in Centigrade: \")\n",
    "\n",
    "f = (9*(int(c))/5)+32\n",
    "\n",
    "print(\" Temperature in Fahrenheit is: \", f)"
   ]
  },
  {
   "cell_type": "code",
   "execution_count": null,
   "id": "bf1f2070",
   "metadata": {},
   "outputs": [],
   "source": []
  }
 ],
 "metadata": {
  "kernelspec": {
   "display_name": "Python 3",
   "language": "python",
   "name": "python3"
  },
  "language_info": {
   "codemirror_mode": {
    "name": "ipython",
    "version": 3
   },
   "file_extension": ".py",
   "mimetype": "text/x-python",
   "name": "python",
   "nbconvert_exporter": "python",
   "pygments_lexer": "ipython3",
   "version": "3.8.8"
  }
 },
 "nbformat": 4,
 "nbformat_minor": 5
}
