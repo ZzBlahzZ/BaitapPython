{
 "cells": [
  {
   "cell_type": "code",
   "execution_count": 1,
   "id": "394a9fac",
   "metadata": {},
   "outputs": [
    {
     "name": "stdout",
     "output_type": "stream",
     "text": [
      "Nhap Chieu Cao:1.63\n",
      "Nhap can nang:72\n"
     ]
    }
   ],
   "source": [
    "n=float(input('Nhap Chieu Cao:'))\n",
    "m=int(input('Nhap can nang:'))\n",
    "BMI=m/(n*2)\n",
    "if(BMI >40):\n",
    "    print('Béo phì cấp độ III')\n",
    "elif(BMI <40 and BMI >= 35):\n",
    "    print('Béo phì cấp độ II')\n",
    "elif(BMI <35 and BMI >= 30):\n",
    "    print('Béo phì cấp độ I')\n",
    "elif(BMI <30 and BMI >= 25):\n",
    "    print('Thừa Cân')\n",
    "elif(BMI <25 and BMI >= 18.5):\n",
    "    print('Bình thường')\n",
    "elif(BMI <18.5 and BMI >=17):\n",
    "    print('Gầy cấp độ I')\n",
    "elif(BMI <17 and )\n"
   ]
  },
  {
   "cell_type": "code",
   "execution_count": null,
   "id": "a0dd34d5",
   "metadata": {},
   "outputs": [],
   "source": []
  }
 ],
 "metadata": {
  "kernelspec": {
   "display_name": "Python 3",
   "language": "python",
   "name": "python3"
  },
  "language_info": {
   "codemirror_mode": {
    "name": "ipython",
    "version": 3
   },
   "file_extension": ".py",
   "mimetype": "text/x-python",
   "name": "python",
   "nbconvert_exporter": "python",
   "pygments_lexer": "ipython3",
   "version": "3.8.8"
  }
 },
 "nbformat": 4,
 "nbformat_minor": 5
}
