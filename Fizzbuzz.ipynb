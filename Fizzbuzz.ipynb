{
 "cells": [
  {
   "cell_type": "code",
   "execution_count": 6,
   "id": "fab0f7a5",
   "metadata": {},
   "outputs": [
    {
     "name": "stdout",
     "output_type": "stream",
     "text": [
      "Nhap so đầu: 1\n",
      "Nhap so cuối: 16\n",
      "1\n",
      "2\n",
      "Fizz\n",
      "4\n",
      "Buzz\n",
      "Fizz\n",
      "7\n",
      "8\n",
      "Fizz\n",
      "Buzz\n",
      "11\n",
      "Fizz\n",
      "13\n",
      "14\n",
      "FizzBuzz\n",
      "16\n"
     ]
    }
   ],
   "source": [
    "n=int(input('Nhap so đầu: '))\n",
    "m=int(input('Nhap so cuối: '))\n",
    "if(n>m):\n",
    "    print('Số đầu cần phải lớn hơn số cuối')\n",
    "else:\n",
    "    for i in range(n,m+1):\n",
    "        if (i % 3 == 0 and i % 5 == 0):\n",
    "            print('FizzBuzz')\n",
    "        elif (i % 3 == 0):\n",
    "            print('Fizz')\n",
    "        elif (i % 5 == 0):\n",
    "            print('Buzz')\n",
    "        else:\n",
    "            print(str(i))\n",
    "        i +=1\n",
    "        "
   ]
  },
  {
   "cell_type": "code",
   "execution_count": null,
   "id": "99a60389",
   "metadata": {},
   "outputs": [],
   "source": []
  },
  {
   "cell_type": "code",
   "execution_count": null,
   "id": "38b3d123",
   "metadata": {},
   "outputs": [],
   "source": []
  }
 ],
 "metadata": {
  "kernelspec": {
   "display_name": "Python 3",
   "language": "python",
   "name": "python3"
  },
  "language_info": {
   "codemirror_mode": {
    "name": "ipython",
    "version": 3
   },
   "file_extension": ".py",
   "mimetype": "text/x-python",
   "name": "python",
   "nbconvert_exporter": "python",
   "pygments_lexer": "ipython3",
   "version": "3.8.8"
  }
 },
 "nbformat": 4,
 "nbformat_minor": 5
}
