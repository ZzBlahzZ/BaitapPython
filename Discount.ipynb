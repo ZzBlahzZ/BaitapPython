{
 "cells": [
  {
   "cell_type": "code",
   "execution_count": 6,
   "id": "513d1048",
   "metadata": {},
   "outputs": [
    {
     "name": "stdout",
     "output_type": "stream",
     "text": [
      "Nhap so tien da tra: 151\n",
      "So tien thanh toan la 101\n"
     ]
    }
   ],
   "source": [
    "n=int(input('Nhap so tien da tra: '))\n",
    "if(n>150):\n",
    "    print('So tien thanh toan la',format(n-50))\n",
    "elif(n>100):\n",
    "    print('So tien thanh toan la',format(n-25))\n",
    "elif(n>75):\n",
    "    print('So tien thanh toan la',format(n-15))\n",
    "else:\n",
    "    print('So tien thanh toan la',n)\n",
    "\n",
    "\n"
   ]
  },
  {
   "cell_type": "code",
   "execution_count": null,
   "id": "b52471e1",
   "metadata": {},
   "outputs": [],
   "source": []
  }
 ],
 "metadata": {
  "kernelspec": {
   "display_name": "Python 3",
   "language": "python",
   "name": "python3"
  },
  "language_info": {
   "codemirror_mode": {
    "name": "ipython",
    "version": 3
   },
   "file_extension": ".py",
   "mimetype": "text/x-python",
   "name": "python",
   "nbconvert_exporter": "python",
   "pygments_lexer": "ipython3",
   "version": "3.8.8"
  }
 },
 "nbformat": 4,
 "nbformat_minor": 5
}
