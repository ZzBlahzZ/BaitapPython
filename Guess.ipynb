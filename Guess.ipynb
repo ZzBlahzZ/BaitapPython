{
 "cells": [
  {
   "cell_type": "code",
   "execution_count": 10,
   "id": "337b103a",
   "metadata": {},
   "outputs": [
    {
     "name": "stdout",
     "output_type": "stream",
     "text": [
      "Nhập một số để đoán: 5\n",
      "Nhập một số để đoán: 4\n",
      "Cậu đoán đúng số rồi  2 \n"
     ]
    }
   ],
   "source": [
    "import random\n",
    "\n",
    "n = random.randint(1, 10)\n",
    "\n",
    "guess_count = 0\n",
    "\n",
    "guess_limit = 2      \n",
    "\n",
    "while guess_count <= guess_limit :\n",
    "\n",
    "    guess = int(input(\"Nhập một số để đoán: \"))\n",
    "\n",
    "    guess_count += 1\n",
    "    \n",
    "    if guess == n:\n",
    "\n",
    "        print(\"Cậu đoán đúng số rồi \", guess_count,\"\")\n",
    "\n",
    "        break\n",
    "    \n",
    "else:\n",
    "\n",
    "    print (\"Sai rồi con số chính là\", n)"
   ]
  },
  {
   "cell_type": "code",
   "execution_count": null,
   "id": "e5736436",
   "metadata": {},
   "outputs": [],
   "source": []
  },
  {
   "cell_type": "code",
   "execution_count": null,
   "id": "3645e362",
   "metadata": {},
   "outputs": [],
   "source": []
  }
 ],
 "metadata": {
  "kernelspec": {
   "display_name": "Python 3",
   "language": "python",
   "name": "python3"
  },
  "language_info": {
   "codemirror_mode": {
    "name": "ipython",
    "version": 3
   },
   "file_extension": ".py",
   "mimetype": "text/x-python",
   "name": "python",
   "nbconvert_exporter": "python",
   "pygments_lexer": "ipython3",
   "version": "3.8.8"
  }
 },
 "nbformat": 4,
 "nbformat_minor": 5
}
