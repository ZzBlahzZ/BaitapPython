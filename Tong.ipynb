{
 "cells": [
  {
   "cell_type": "code",
   "execution_count": 5,
   "id": "a9f35c3a",
   "metadata": {},
   "outputs": [
    {
     "name": "stdout",
     "output_type": "stream",
     "text": [
      "Nhap so a: 1\n",
      "Nhap so b: 9\n",
      "Tổng là: 54\n"
     ]
    }
   ],
   "source": [
    "a=int(input('Nhap so a: '))\n",
    "b=int(input('Nhap so b: '))\n",
    "y=0\n",
    "if (a>b):\n",
    "    print(\"a phải nhỏ hơn b\")\n",
    "else:\n",
    "    for i in range(a,b+1):\n",
    "        i +=1\n",
    "        y +=i\n",
    "    print(\"Tổng là:\",y)"
   ]
  },
  {
   "cell_type": "code",
   "execution_count": null,
   "id": "dead24be",
   "metadata": {},
   "outputs": [],
   "source": []
  },
  {
   "cell_type": "code",
   "execution_count": null,
   "id": "1a926f0e",
   "metadata": {},
   "outputs": [],
   "source": []
  }
 ],
 "metadata": {
  "kernelspec": {
   "display_name": "Python 3",
   "language": "python",
   "name": "python3"
  },
  "language_info": {
   "codemirror_mode": {
    "name": "ipython",
    "version": 3
   },
   "file_extension": ".py",
   "mimetype": "text/x-python",
   "name": "python",
   "nbconvert_exporter": "python",
   "pygments_lexer": "ipython3",
   "version": "3.8.8"
  }
 },
 "nbformat": 4,
 "nbformat_minor": 5
}
