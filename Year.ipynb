{
 "cells": [
  {
   "cell_type": "code",
   "execution_count": 3,
   "id": "b4a05fd9",
   "metadata": {},
   "outputs": [
    {
     "name": "stdout",
     "output_type": "stream",
     "text": [
      "Nhap năm: 2004\n",
      "Năm nhuận\n"
     ]
    }
   ],
   "source": [
    "n=int(input('Nhap năm: '))\n",
    "if(n%400==0):\n",
    "    print('Năm nhuận')\n",
    "elif(n%4==0 and n%100!=0):\n",
    "    print('Năm nhuận')\n",
    "else:\n",
    "    print('Năm không nhuận')"
   ]
  },
  {
   "cell_type": "code",
   "execution_count": null,
   "id": "c9423b77",
   "metadata": {},
   "outputs": [],
   "source": []
  },
  {
   "cell_type": "code",
   "execution_count": null,
   "id": "120c3e7b",
   "metadata": {},
   "outputs": [],
   "source": []
  }
 ],
 "metadata": {
  "kernelspec": {
   "display_name": "Python 3",
   "language": "python",
   "name": "python3"
  },
  "language_info": {
   "codemirror_mode": {
    "name": "ipython",
    "version": 3
   },
   "file_extension": ".py",
   "mimetype": "text/x-python",
   "name": "python",
   "nbconvert_exporter": "python",
   "pygments_lexer": "ipython3",
   "version": "3.8.8"
  }
 },
 "nbformat": 4,
 "nbformat_minor": 5
}
