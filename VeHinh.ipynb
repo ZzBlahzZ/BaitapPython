{
 "cells": [
  {
   "cell_type": "code",
   "execution_count": 2,
   "id": "9de816bd",
   "metadata": {},
   "outputs": [
    {
     "name": "stdout",
     "output_type": "stream",
     "text": [
      "Nhập chiều rộng:\n",
      "4\n",
      "Nhập chiều dài:\n",
      "5\n",
      "* * * * \n",
      "*     * \n",
      "*     * \n",
      "*     * \n",
      "* * * * \n"
     ]
    }
   ],
   "source": [
    "print(\"Nhập chiều rộng:\")\n",
    "width_number= int(input())\n",
    "print(\"Nhập chiều dài:\")\n",
    "length_number = int(input())\n",
    "print(\"* \"*width_number)\n",
    "for length in range(length_number - 2):\n",
    "    print(\"* \", end=\"\")\n",
    "    for width in range(width_number - 2):\n",
    "        print(\"  \", end=\"\")\n",
    "    print(\"* \")\n",
    "print(\"* \"*width_number)"
   ]
  },
  {
   "cell_type": "code",
   "execution_count": null,
   "id": "5854900f",
   "metadata": {},
   "outputs": [],
   "source": []
  }
 ],
 "metadata": {
  "kernelspec": {
   "display_name": "Python 3",
   "language": "python",
   "name": "python3"
  },
  "language_info": {
   "codemirror_mode": {
    "name": "ipython",
    "version": 3
   },
   "file_extension": ".py",
   "mimetype": "text/x-python",
   "name": "python",
   "nbconvert_exporter": "python",
   "pygments_lexer": "ipython3",
   "version": "3.8.8"
  }
 },
 "nbformat": 4,
 "nbformat_minor": 5
}
